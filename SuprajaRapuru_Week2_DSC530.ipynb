{
 "cells": [
  {
   "cell_type": "code",
   "execution_count": 1,
   "metadata": {},
   "outputs": [
    {
     "name": "stdout",
     "output_type": "stream",
     "text": [
      "Hello World!\n",
      "6\n",
      "9\n",
      "36\n",
      "50.0\n",
      "Indiana Dunes\n",
      "[5, 6, 7, 8]\n",
      "[5, 6, 7, 8, 10]\n",
      "(1, 2, 3, 4)\n"
     ]
    }
   ],
   "source": [
    "# DSC 530\n",
    "# Programming Assignment Week 2\n",
    "# Author Supraja Rapuru\n",
    "# 6/17/2021\n",
    "\n",
    "print(\"Hello World!\")\n",
    "\n",
    "print(4 + 2)\n",
    "\n",
    "print(10 - 1)\n",
    "\n",
    "print(4 * 9)\n",
    "\n",
    "print(100 / 2)\n",
    "\n",
    "print(\"Indiana\" + \" \" + \"Dunes\")\n",
    "\n",
    "justlist = [5,6,7,8]\n",
    "print(justlist)\n",
    "\n",
    "justlist.append(10)\n",
    "print(justlist)\n",
    "\n",
    "justtuple = (1,2,3,4)\n",
    "print(justtuple)"
   ]
  },
  {
   "cell_type": "code",
   "execution_count": null,
   "metadata": {},
   "outputs": [],
   "source": []
  }
 ],
 "metadata": {
  "kernelspec": {
   "display_name": "Python 3",
   "language": "python",
   "name": "python3"
  },
  "language_info": {
   "codemirror_mode": {
    "name": "ipython",
    "version": 3
   },
   "file_extension": ".py",
   "mimetype": "text/x-python",
   "name": "python",
   "nbconvert_exporter": "python",
   "pygments_lexer": "ipython3",
   "version": "3.6.7"
  }
 },
 "nbformat": 4,
 "nbformat_minor": 2
}
